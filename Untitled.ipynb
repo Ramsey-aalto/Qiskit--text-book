{
 "cells": [
  {
   "cell_type": "code",
   "execution_count": 103,
   "id": "1a0be741",
   "metadata": {},
   "outputs": [],
   "source": [
    "import numpy as np\n",
    "from qiskit import QuantumCircuit, transpile\n",
    "from qiskit.providers.aer import QasmSimulator\n",
    "from qiskit.visualization import plot_histogram\n",
    "from qiskit.quantum_info import Statevector"
   ]
  },
  {
   "cell_type": "code",
   "execution_count": 104,
   "id": "daeadcc9",
   "metadata": {
    "scrolled": false
   },
   "outputs": [
    {
     "data": {
      "text/latex": [
       "$$ |1111110\\rangle$$"
      ],
      "text/plain": [
       "<IPython.core.display.Latex object>"
      ]
     },
     "execution_count": 104,
     "metadata": {},
     "output_type": "execute_result"
    }
   ],
   "source": [
    "string = [0,1,0,1,0,1,1]\n",
    "qc = QuantumCircuit(len(string),1)\n",
    "\n",
    "for i in range(0,len(string)):\n",
    "    if string[i] == 1 :\n",
    "        qc.x(i)\n",
    "before = Statevector(qc)\n",
    "before.draw(output='latex')\n",
    "    "
   ]
  },
  {
   "cell_type": "code",
   "execution_count": 105,
   "id": "52b9b6bc",
   "metadata": {},
   "outputs": [
    {
     "data": {
      "text/html": [
       "<pre style=\"word-wrap: normal;white-space: pre;background: #fff0;line-height: 1.1;font-family: &quot;Courier New&quot;,Courier,monospace\">     ┌───┐┌───┐┌───┐┌───┐┌───┐\n",
       "q_0: ┤ X ├┤ H ├┤ X ├┤ H ├┤ X ├\n",
       "     ├───┤└───┘└─┬─┘└───┘└───┘\n",
       "q_1: ┤ X ├───────■────────────\n",
       "     ├───┤       │            \n",
       "q_2: ┤ X ├───────■────────────\n",
       "     ├───┤       │            \n",
       "q_3: ┤ X ├───────■────────────\n",
       "     ├───┤       │            \n",
       "q_4: ┤ X ├───────■────────────\n",
       "     ├───┤       │            \n",
       "q_5: ┤ X ├───────■────────────\n",
       "     ├───┤       │            \n",
       "q_6: ┤ X ├───────■────────────\n",
       "     └───┘                    \n",
       "c: 1/═════════════════════════\n",
       "                              </pre>"
      ],
      "text/plain": [
       "     ┌───┐┌───┐┌───┐┌───┐┌───┐\n",
       "q_0: ┤ X ├┤ H ├┤ X ├┤ H ├┤ X ├\n",
       "     ├───┤└───┘└─┬─┘└───┘└───┘\n",
       "q_1: ┤ X ├───────■────────────\n",
       "     ├───┤       │            \n",
       "q_2: ┤ X ├───────■────────────\n",
       "     ├───┤       │            \n",
       "q_3: ┤ X ├───────■────────────\n",
       "     ├───┤       │            \n",
       "q_4: ┤ X ├───────■────────────\n",
       "     ├───┤       │            \n",
       "q_5: ┤ X ├───────■────────────\n",
       "     ├───┤       │            \n",
       "q_6: ┤ X ├───────■────────────\n",
       "     └───┘                    \n",
       "c: 1/═════════════════════════\n",
       "                              "
      ]
     },
     "execution_count": 105,
     "metadata": {},
     "output_type": "execute_result"
    }
   ],
   "source": [
    "# apply x gate to all bit have value 0\n",
    "\n",
    "for i in range(0,len(string)):\n",
    "    if string[i] == 0 :\n",
    "        qc.x(i)\n",
    "\n",
    "#apply z gate to qbit 0 Z=HXH\n",
    "qc.h(0)\n",
    "qc.mcx(list(range(1,len(string))),0)\n",
    "qc.h(0)\n",
    "\n",
    "#apply x gate back\n",
    "for i in range(0,len(string)):\n",
    "    if string[i] == 0 :\n",
    "        qc.x(i)\n",
    "\n",
    "        \n",
    "qc.draw()"
   ]
  },
  {
   "cell_type": "code",
   "execution_count": 106,
   "id": "6fe67376",
   "metadata": {},
   "outputs": [
    {
     "data": {
      "text/latex": [
       "$$- |1111110\\rangle$$"
      ],
      "text/plain": [
       "<IPython.core.display.Latex object>"
      ]
     },
     "execution_count": 106,
     "metadata": {},
     "output_type": "execute_result"
    }
   ],
   "source": [
    "after= Statevector(qc)\n",
    "after.draw(output='latex')"
   ]
  },
  {
   "cell_type": "code",
   "execution_count": null,
   "id": "a1cfb5e2",
   "metadata": {},
   "outputs": [],
   "source": []
  },
  {
   "cell_type": "code",
   "execution_count": null,
   "id": "4fa125f0",
   "metadata": {},
   "outputs": [],
   "source": []
  },
  {
   "cell_type": "code",
   "execution_count": null,
   "id": "6c00cb5b",
   "metadata": {},
   "outputs": [],
   "source": []
  },
  {
   "cell_type": "code",
   "execution_count": null,
   "id": "52f68481",
   "metadata": {},
   "outputs": [],
   "source": []
  },
  {
   "cell_type": "code",
   "execution_count": null,
   "id": "2d483de9",
   "metadata": {},
   "outputs": [],
   "source": []
  }
 ],
 "metadata": {
  "kernelspec": {
   "display_name": "Python 3 (ipykernel)",
   "language": "python",
   "name": "python3"
  },
  "language_info": {
   "codemirror_mode": {
    "name": "ipython",
    "version": 3
   },
   "file_extension": ".py",
   "mimetype": "text/x-python",
   "name": "python",
   "nbconvert_exporter": "python",
   "pygments_lexer": "ipython3",
   "version": "3.9.13"
  }
 },
 "nbformat": 4,
 "nbformat_minor": 5
}
